{
 "cells": [
  {
   "cell_type": "markdown",
   "id": "2302159c-2f21-4c2d-87e3-ebc648cd372d",
   "metadata": {},
   "source": [
    "1. Найти строку, содержащую 'a', за которой следует 0 или более 'b'"
   ]
  },
  {
   "cell_type": "code",
   "execution_count": 3,
   "id": "d992c028-b9a4-443c-8734-c11ed4083b9f",
   "metadata": {},
   "outputs": [
    {
     "name": "stdout",
     "output_type": "stream",
     "text": [
      "Matched\n"
     ]
    }
   ],
   "source": [
    "import re\n",
    "\n",
    "pattern = r'ab*'\n",
    "test_string = \"abbb\"\n",
    "if re.fullmatch(pattern, test_string):\n",
    "    print(\"Matched\")\n",
    "else:\n",
    "    print(\"Not matched\")"
   ]
  },
  {
   "cell_type": "markdown",
   "id": "a391b4f5-4ae6-411d-8daf-a7529d98a6d4",
   "metadata": {},
   "source": [
    "2. Найти строку, содержащую 'a', за которой следует 2 или 3 'b'"
   ]
  },
  {
   "cell_type": "code",
   "execution_count": 6,
   "id": "eb1205b2-c390-4317-93d3-e49754a42d8d",
   "metadata": {},
   "outputs": [
    {
     "name": "stdout",
     "output_type": "stream",
     "text": [
      "Matched\n"
     ]
    }
   ],
   "source": [
    "import re\n",
    "\n",
    "pattern = r'ab{2,3}'\n",
    "test_string = \"abb\"\n",
    "if re.fullmatch(pattern, test_string):\n",
    "    print(\"Matched\")\n",
    "else:\n",
    "    print(\"Not matched\")"
   ]
  },
  {
   "cell_type": "markdown",
   "id": "05913fdc-24c5-4fc9-adb8-8a9c486a164f",
   "metadata": {},
   "source": [
    "3. Найти последовательности строчных букв, соединенных подчеркиванием"
   ]
  },
  {
   "cell_type": "code",
   "execution_count": 9,
   "id": "4a364509-070c-485f-af5c-d915f469c5f2",
   "metadata": {},
   "outputs": [
    {
     "name": "stdout",
     "output_type": "stream",
     "text": [
      "Matched\n"
     ]
    }
   ],
   "source": [
    "import re\n",
    "\n",
    "pattern = r'[a-z]+_[a-z]+'\n",
    "test_string = \"hello_world\"\n",
    "if re.fullmatch(pattern, test_string):\n",
    "    print(\"Matched\")\n",
    "else:\n",
    "    print(\"Not matched\")"
   ]
  },
  {
   "cell_type": "markdown",
   "id": "8277cf52-7fef-48d5-a104-1b11d6b421d6",
   "metadata": {},
   "source": [
    "4. Найти последовательности, состоящие из одной заглавной буквы, за которой идут строчные буквы"
   ]
  },
  {
   "cell_type": "code",
   "execution_count": 12,
   "id": "7e987225-78a6-4db8-a2bc-ba4ae3779f44",
   "metadata": {},
   "outputs": [
    {
     "name": "stdout",
     "output_type": "stream",
     "text": [
      "Matched\n"
     ]
    }
   ],
   "source": [
    "import re\n",
    "\n",
    "pattern = r'[A-Z][a-z]+'\n",
    "test_string = \"Hello\"\n",
    "if re.fullmatch(pattern, test_string):\n",
    "    print(\"Matched\")\n",
    "else:\n",
    "    print(\"Not matched\")"
   ]
  },
  {
   "cell_type": "markdown",
   "id": "a77529fe-dde2-4fc5-8c1b-31fb6f07b137",
   "metadata": {},
   "source": [
    "5. Найти строку, содержащую 'a', за которой следует любое количество символов, оканчивающуюся на 'b'"
   ]
  },
  {
   "cell_type": "code",
   "execution_count": 15,
   "id": "4803fe9d-4d75-4dd6-8ca2-c8a106528fae",
   "metadata": {},
   "outputs": [
    {
     "name": "stdout",
     "output_type": "stream",
     "text": [
      "Matched\n"
     ]
    }
   ],
   "source": [
    "import re\n",
    "\n",
    "pattern = r'a.*b$'\n",
    "test_string = \"axb\"\n",
    "if re.fullmatch(pattern, test_string):\n",
    "    print(\"Matched\")\n",
    "else:\n",
    "    print(\"Not matched\")"
   ]
  },
  {
   "cell_type": "markdown",
   "id": "42faf8f1-7e77-4b45-ae5b-fd22fa37f076",
   "metadata": {},
   "source": [
    "6. Заменить все пробелы, запятые и точки на двоеточие"
   ]
  },
  {
   "cell_type": "code",
   "execution_count": 18,
   "id": "be85a680-e931-4c86-8fe0-8e90046d2bf1",
   "metadata": {},
   "outputs": [
    {
     "name": "stdout",
     "output_type": "stream",
     "text": [
      "Hello::world::How:are:you?\n"
     ]
    }
   ],
   "source": [
    "import re\n",
    "\n",
    "text = \"Hello, world. How are you?\"\n",
    "result = re.sub(r'[ ,.]', ':', text)\n",
    "print(result)"
   ]
  },
  {
   "cell_type": "markdown",
   "id": "b9f7d74d-1fc2-473e-992a-dd9380eba372",
   "metadata": {},
   "source": [
    "7. Конвертировать snake_case в CamelCase"
   ]
  },
  {
   "cell_type": "code",
   "execution_count": 21,
   "id": "1b842ad9-e645-458a-9f9f-ee8acbbd03e8",
   "metadata": {},
   "outputs": [
    {
     "name": "stdout",
     "output_type": "stream",
     "text": [
      "HelloWorldTest\n"
     ]
    }
   ],
   "source": [
    "import re\n",
    "\n",
    "def snake_to_camel(s):\n",
    "    return ''.join(word.capitalize() for word in s.split('_'))\n",
    "\n",
    "text = \"hello_world_test\"\n",
    "print(snake_to_camel(text))"
   ]
  },
  {
   "cell_type": "markdown",
   "id": "61cdc377-740b-463e-81b9-3de1900eaf5d",
   "metadata": {},
   "source": [
    "8. Разделить строку по заглавным буквам"
   ]
  },
  {
   "cell_type": "code",
   "execution_count": 24,
   "id": "5ca1fbbc-4bc6-49d1-9cad-aa98f7af9506",
   "metadata": {},
   "outputs": [
    {
     "name": "stdout",
     "output_type": "stream",
     "text": [
      "['', 'Split', 'This', 'String']\n"
     ]
    }
   ],
   "source": [
    "import re\n",
    "\n",
    "text = \"SplitThisString\"\n",
    "result = re.split(r'(?=[A-Z])', text)\n",
    "print(result)"
   ]
  },
  {
   "cell_type": "markdown",
   "id": "cb0bd83d-1516-4b41-bf73-341cb70802a5",
   "metadata": {},
   "source": [
    "9. Вставить пробелы перед словами, начинающимися с заглавных букв"
   ]
  },
  {
   "cell_type": "code",
   "execution_count": 27,
   "id": "a18bf11e-11b0-44f1-8e81-20fa83c59ac1",
   "metadata": {},
   "outputs": [
    {
     "name": "stdout",
     "output_type": "stream",
     "text": [
      "Insert Spaces Between Words\n"
     ]
    }
   ],
   "source": [
    "import re\n",
    "\n",
    "text = \"InsertSpacesBetweenWords\"\n",
    "result = re.sub(r'(?<!^)(?=[A-Z])', ' ', text)\n",
    "print(result)"
   ]
  },
  {
   "cell_type": "markdown",
   "id": "67d06e48-e3e8-4ea0-8c63-bd350ce9ec15",
   "metadata": {},
   "source": [
    "10. Конвертировать CamelCase в snake_case"
   ]
  },
  {
   "cell_type": "code",
   "execution_count": 30,
   "id": "9be84926-9f63-4e23-9854-c8ba40a81f13",
   "metadata": {},
   "outputs": [
    {
     "name": "stdout",
     "output_type": "stream",
     "text": [
      "camel_case_example\n"
     ]
    }
   ],
   "source": [
    "import re\n",
    "\n",
    "def camel_to_snake(s):\n",
    "    return re.sub(r'(?<!^)(?=[A-Z])', '_', s).lower()\n",
    "\n",
    "text = \"CamelCaseExample\"\n",
    "print(camel_to_snake(text))"
   ]
  }
 ],
 "metadata": {
  "kernelspec": {
   "display_name": "Python [conda env:base] *",
   "language": "python",
   "name": "conda-base-py"
  },
  "language_info": {
   "codemirror_mode": {
    "name": "ipython",
    "version": 3
   },
   "file_extension": ".py",
   "mimetype": "text/x-python",
   "name": "python",
   "nbconvert_exporter": "python",
   "pygments_lexer": "ipython3",
   "version": "3.12.7"
  }
 },
 "nbformat": 4,
 "nbformat_minor": 5
}
